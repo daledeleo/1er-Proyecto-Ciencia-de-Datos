{
 "cells": [
  {
   "cell_type": "code",
   "execution_count": 5,
   "metadata": {},
   "outputs": [],
   "source": [
    "import pandas as pd"
   ]
  },
  {
   "cell_type": "markdown",
   "metadata": {},
   "source": [
    "# Quitando las lineas con demasiadas comas ',' para omitir 2 lineas que nos causan problemas"
   ]
  },
  {
   "cell_type": "code",
   "execution_count": 20,
   "metadata": {
    "tags": []
   },
   "outputs": [
    {
     "output_type": "stream",
     "name": "stderr",
     "text": "b'Skipping line 14685: expected 24 fields, saw 27\\n'\nb'Skipping line 40355: expected 24 fields, saw 27\\nSkipping line 48799: expected 24 fields, saw 27\\n'\n"
    },
    {
     "output_type": "execute_result",
     "data": {
      "text/plain": "    Delivery Id         Route Id  Driver Id                       Driver Name  \\\n0    t-60noom-1  r-shiinc-258710     150533  Diego Alonso   Zuñiga Santibañez   \n1  t-mimada-441  r-shiinc-258710     150533  Diego Alonso   Zuñiga Santibañez   \n2  t-mimada-442  r-shiinc-258710     150533  Diego Alonso   Zuñiga Santibañez   \n3  t-mimada-443  r-shiinc-258710     150533  Diego Alonso   Zuñiga Santibañez   \n4  t-mimada-446  r-shiinc-258710     150533  Diego Alonso   Zuñiga Santibañez   \n\n   Company Id            Company Name  Driver Price  Company Price  \\\n0        5542  60 No More Escape Room       1906.67         3100.0   \n1        2710   Mi Mercadito Limitada       1906.67         3100.0   \n2        2710   Mi Mercadito Limitada       1906.67         3100.0   \n3        2710   Mi Mercadito Limitada       1906.67         3100.0   \n4        2710   Mi Mercadito Limitada       2786.67         4200.0   \n\n         Creation Date     Scheduled Pickup  ...    Effective Dropoff  \\\n0  2020-05-25 20:05:37  2020-05-26 17:30:00  ...  2020-05-26 18:32:00   \n1  2020-05-26 15:32:35  2020-05-26 17:57:06  ...  2020-05-26 18:36:36   \n2  2020-05-26 15:32:35  2020-05-26 17:57:06  ...  2020-05-26 18:45:48   \n3  2020-05-26 15:32:35  2020-05-26 17:57:06  ...  2020-05-26 18:51:13   \n4  2020-05-26 15:32:35  2020-05-26 17:57:06  ...  2020-05-26 19:41:21   \n\n                                      Pickup Address Pickup Lat Pickup Lng  \\\n0  Echaurren 301, Santiago, Región Metropolitana,... -33.452211 -70.666493   \n1  Dublé Almeyda 1880, Ñuñoa, Región Metropolitan... -33.454710 -70.611688   \n2  Dublé Almeyda 1880, Ñuñoa, Región Metropolitan... -33.454710 -70.611688   \n3  Dublé Almeyda 1880, Ñuñoa, Región Metropolitan... -33.454710 -70.611688   \n4  Dublé Almeyda 1880, Ñuñoa, Región Metropolitan... -33.454710 -70.611688   \n\n                                     Dropoff Address Dropoff Lat  Dropoff Lng  \\\n0  Campo de Deportes 257, Ñuñoa, Región Metropoli...  -33.455882   -70.609377   \n1  Dublé Almeyda 1600, Ñuñoa, Región Metropolitan...  -33.454403   -70.614476   \n2  Av. Manuel Antonio Matta 040, Ñuñoa, Región Me...  -33.454866   -70.629580   \n3  Av. Condell 1777, Ñuñoa, Región Metropolitana,...  -33.451026   -70.624821   \n4  Ntra Sra de Guadalupe 9529, La Florida, Región...  -33.540522   -70.567479   \n\n   Delivery Type     Status  Total Items  \n0           flex  completed            1  \n1           flex  completed            1  \n2           flex  completed            1  \n3           flex  completed            1  \n4           flex  completed            1  \n\n[5 rows x 24 columns]",
      "text/html": "<div>\n<style scoped>\n    .dataframe tbody tr th:only-of-type {\n        vertical-align: middle;\n    }\n\n    .dataframe tbody tr th {\n        vertical-align: top;\n    }\n\n    .dataframe thead th {\n        text-align: right;\n    }\n</style>\n<table border=\"1\" class=\"dataframe\">\n  <thead>\n    <tr style=\"text-align: right;\">\n      <th></th>\n      <th>Delivery Id</th>\n      <th>Route Id</th>\n      <th>Driver Id</th>\n      <th>Driver Name</th>\n      <th>Company Id</th>\n      <th>Company Name</th>\n      <th>Driver Price</th>\n      <th>Company Price</th>\n      <th>Creation Date</th>\n      <th>Scheduled Pickup</th>\n      <th>...</th>\n      <th>Effective Dropoff</th>\n      <th>Pickup Address</th>\n      <th>Pickup Lat</th>\n      <th>Pickup Lng</th>\n      <th>Dropoff Address</th>\n      <th>Dropoff Lat</th>\n      <th>Dropoff Lng</th>\n      <th>Delivery Type</th>\n      <th>Status</th>\n      <th>Total Items</th>\n    </tr>\n  </thead>\n  <tbody>\n    <tr>\n      <th>0</th>\n      <td>t-60noom-1</td>\n      <td>r-shiinc-258710</td>\n      <td>150533</td>\n      <td>Diego Alonso   Zuñiga Santibañez</td>\n      <td>5542</td>\n      <td>60 No More Escape Room</td>\n      <td>1906.67</td>\n      <td>3100.0</td>\n      <td>2020-05-25 20:05:37</td>\n      <td>2020-05-26 17:30:00</td>\n      <td>...</td>\n      <td>2020-05-26 18:32:00</td>\n      <td>Echaurren 301, Santiago, Región Metropolitana,...</td>\n      <td>-33.452211</td>\n      <td>-70.666493</td>\n      <td>Campo de Deportes 257, Ñuñoa, Región Metropoli...</td>\n      <td>-33.455882</td>\n      <td>-70.609377</td>\n      <td>flex</td>\n      <td>completed</td>\n      <td>1</td>\n    </tr>\n    <tr>\n      <th>1</th>\n      <td>t-mimada-441</td>\n      <td>r-shiinc-258710</td>\n      <td>150533</td>\n      <td>Diego Alonso   Zuñiga Santibañez</td>\n      <td>2710</td>\n      <td>Mi Mercadito Limitada</td>\n      <td>1906.67</td>\n      <td>3100.0</td>\n      <td>2020-05-26 15:32:35</td>\n      <td>2020-05-26 17:57:06</td>\n      <td>...</td>\n      <td>2020-05-26 18:36:36</td>\n      <td>Dublé Almeyda 1880, Ñuñoa, Región Metropolitan...</td>\n      <td>-33.454710</td>\n      <td>-70.611688</td>\n      <td>Dublé Almeyda 1600, Ñuñoa, Región Metropolitan...</td>\n      <td>-33.454403</td>\n      <td>-70.614476</td>\n      <td>flex</td>\n      <td>completed</td>\n      <td>1</td>\n    </tr>\n    <tr>\n      <th>2</th>\n      <td>t-mimada-442</td>\n      <td>r-shiinc-258710</td>\n      <td>150533</td>\n      <td>Diego Alonso   Zuñiga Santibañez</td>\n      <td>2710</td>\n      <td>Mi Mercadito Limitada</td>\n      <td>1906.67</td>\n      <td>3100.0</td>\n      <td>2020-05-26 15:32:35</td>\n      <td>2020-05-26 17:57:06</td>\n      <td>...</td>\n      <td>2020-05-26 18:45:48</td>\n      <td>Dublé Almeyda 1880, Ñuñoa, Región Metropolitan...</td>\n      <td>-33.454710</td>\n      <td>-70.611688</td>\n      <td>Av. Manuel Antonio Matta 040, Ñuñoa, Región Me...</td>\n      <td>-33.454866</td>\n      <td>-70.629580</td>\n      <td>flex</td>\n      <td>completed</td>\n      <td>1</td>\n    </tr>\n    <tr>\n      <th>3</th>\n      <td>t-mimada-443</td>\n      <td>r-shiinc-258710</td>\n      <td>150533</td>\n      <td>Diego Alonso   Zuñiga Santibañez</td>\n      <td>2710</td>\n      <td>Mi Mercadito Limitada</td>\n      <td>1906.67</td>\n      <td>3100.0</td>\n      <td>2020-05-26 15:32:35</td>\n      <td>2020-05-26 17:57:06</td>\n      <td>...</td>\n      <td>2020-05-26 18:51:13</td>\n      <td>Dublé Almeyda 1880, Ñuñoa, Región Metropolitan...</td>\n      <td>-33.454710</td>\n      <td>-70.611688</td>\n      <td>Av. Condell 1777, Ñuñoa, Región Metropolitana,...</td>\n      <td>-33.451026</td>\n      <td>-70.624821</td>\n      <td>flex</td>\n      <td>completed</td>\n      <td>1</td>\n    </tr>\n    <tr>\n      <th>4</th>\n      <td>t-mimada-446</td>\n      <td>r-shiinc-258710</td>\n      <td>150533</td>\n      <td>Diego Alonso   Zuñiga Santibañez</td>\n      <td>2710</td>\n      <td>Mi Mercadito Limitada</td>\n      <td>2786.67</td>\n      <td>4200.0</td>\n      <td>2020-05-26 15:32:35</td>\n      <td>2020-05-26 17:57:06</td>\n      <td>...</td>\n      <td>2020-05-26 19:41:21</td>\n      <td>Dublé Almeyda 1880, Ñuñoa, Región Metropolitan...</td>\n      <td>-33.454710</td>\n      <td>-70.611688</td>\n      <td>Ntra Sra de Guadalupe 9529, La Florida, Región...</td>\n      <td>-33.540522</td>\n      <td>-70.567479</td>\n      <td>flex</td>\n      <td>completed</td>\n      <td>1</td>\n    </tr>\n  </tbody>\n</table>\n<p>5 rows × 24 columns</p>\n</div>"
     },
     "metadata": {},
     "execution_count": 20
    }
   ],
   "source": [
    "df = pd.read_csv('./datos/espol-DeliveriesData.csv',error_bad_lines=False,usecols=['Delivery_Id'])\n",
    "\n",
    "\n",
    "df.head()"
   ]
  },
  {
   "cell_type": "code",
   "execution_count": 24,
   "metadata": {},
   "outputs": [
    {
     "output_type": "error",
     "ename": "AttributeError",
     "evalue": "'DataFrameGroupBy' object has no attribute 'rename'",
     "traceback": [
      "\u001b[1;31m---------------------------------------------------------------------------\u001b[0m",
      "\u001b[1;31mAttributeError\u001b[0m                            Traceback (most recent call last)",
      "\u001b[1;32m<ipython-input-24-062ff845ee6c>\u001b[0m in \u001b[0;36m<module>\u001b[1;34m\u001b[0m\n\u001b[0;32m      1\u001b[0m \u001b[1;31m#verificando el numero de cloumnas\u001b[0m\u001b[1;33m\u001b[0m\u001b[1;33m\u001b[0m\u001b[1;33m\u001b[0m\u001b[0m\n\u001b[1;32m----> 2\u001b[1;33m \u001b[0mdf2\u001b[0m\u001b[1;33m.\u001b[0m\u001b[0mrename\u001b[0m\u001b[1;33m(\u001b[0m\u001b[0mcolumns\u001b[0m\u001b[1;33m=\u001b[0m\u001b[1;33m{\u001b[0m\u001b[1;34m\"Delivery Id\"\u001b[0m\u001b[1;33m:\u001b[0m\u001b[1;34m'Delivery_Id'\u001b[0m\u001b[1;33m}\u001b[0m\u001b[1;33m,\u001b[0m \u001b[0minplace\u001b[0m\u001b[1;33m=\u001b[0m\u001b[1;32mTrue\u001b[0m\u001b[1;33m)\u001b[0m\u001b[1;33m\u001b[0m\u001b[1;33m\u001b[0m\u001b[0m\n\u001b[0m\u001b[0;32m      3\u001b[0m \u001b[0mdf2\u001b[0m\u001b[1;33m=\u001b[0m\u001b[0mdf\u001b[0m\u001b[1;33m.\u001b[0m\u001b[0mgroupby\u001b[0m\u001b[1;33m(\u001b[0m\u001b[1;34m'Delivery Id'\u001b[0m\u001b[1;33m)\u001b[0m\u001b[1;33m\u001b[0m\u001b[1;33m\u001b[0m\u001b[0m\n\u001b[0;32m      4\u001b[0m \u001b[0mdf2\u001b[0m\u001b[1;33m.\u001b[0m\u001b[0mhead\u001b[0m\u001b[1;33m(\u001b[0m\u001b[1;33m)\u001b[0m\u001b[1;33m\u001b[0m\u001b[1;33m\u001b[0m\u001b[0m\n",
      "\u001b[1;32m~\\AppData\\Local\\Programs\\Python\\Python38-32\\lib\\site-packages\\pandas\\core\\groupby\\groupby.py\u001b[0m in \u001b[0;36m__getattr__\u001b[1;34m(self, attr)\u001b[0m\n\u001b[0;32m    578\u001b[0m             \u001b[1;32mreturn\u001b[0m \u001b[0mself\u001b[0m\u001b[1;33m[\u001b[0m\u001b[0mattr\u001b[0m\u001b[1;33m]\u001b[0m\u001b[1;33m\u001b[0m\u001b[1;33m\u001b[0m\u001b[0m\n\u001b[0;32m    579\u001b[0m \u001b[1;33m\u001b[0m\u001b[0m\n\u001b[1;32m--> 580\u001b[1;33m         raise AttributeError(\n\u001b[0m\u001b[0;32m    581\u001b[0m             \u001b[1;34mf\"'{type(self).__name__}' object has no attribute '{attr}'\"\u001b[0m\u001b[1;33m\u001b[0m\u001b[1;33m\u001b[0m\u001b[0m\n\u001b[0;32m    582\u001b[0m         )\n",
      "\u001b[1;31mAttributeError\u001b[0m: 'DataFrameGroupBy' object has no attribute 'rename'"
     ]
    }
   ],
   "source": [
    "#verificando el numero de cloumnas\n",
    "df2.rename(columns={\"Delivery Id\":'Delivery_Id'}, inplace=True)\n",
    "df2=df.groupby('Delivery Id')\n",
    "df2.head()"
   ]
  },
  {
   "cell_type": "markdown",
   "metadata": {},
   "source": []
  },
  {
   "cell_type": "code",
   "execution_count": null,
   "metadata": {},
   "outputs": [],
   "source": []
  }
 ],
 "metadata": {
  "kernelspec": {
   "display_name": "Python 3.8.3 32-bit",
   "language": "python",
   "name": "python_defaultSpec_1596050631135"
  },
  "language_info": {
   "codemirror_mode": {
    "name": "ipython",
    "version": 3
   },
   "file_extension": ".py",
   "mimetype": "text/x-python",
   "name": "python",
   "nbconvert_exporter": "python",
   "pygments_lexer": "ipython3",
   "version": "3.8.5"
  }
 },
 "nbformat": 4,
 "nbformat_minor": 4
}